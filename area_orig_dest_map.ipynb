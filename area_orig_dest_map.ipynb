{
    "cells": [
        {
            "cell_type": "markdown",
            "source": [
                "# origin-destination matrix"
            ],
            "metadata": {}
        },
        {
            "cell_type": "code",
            "execution_count": 1,
            "source": [
                "import pandas as pd\r\n",
                "import matplotlib.pyplot as plt\r\n",
                "from itertools import cycle "
            ],
            "outputs": [],
            "metadata": {}
        },
        {
            "cell_type": "markdown",
            "source": [
                "Upload data from all_routes.csv"
            ],
            "metadata": {}
        },
        {
            "cell_type": "code",
            "execution_count": 2,
            "source": [
                "#access data from csv file\r\n",
                "all_routes = pd.read_csv('all_routes.csv', \r\n",
                "                    usecols = ['o', 'd', 'dist', 'dur', 'geom'], \r\n",
                "                    dtype = {'dist':float, 'dur':float},\r\n",
                "                    converters={'geom': eval})\r\n",
                "    #la lista 'geom' viene scritta nel file csv sotto forma di stringa\r\n",
                "    #converters={'geom': eval} la converte in pandas series\r\n",
                "\r\n",
                "all_routes.head(5)                \r\n",
                "\r\n",
                "\r\n",
                " "
            ],
            "outputs": [
                {
                    "output_type": "execute_result",
                    "data": {
                        "text/html": [
                            "<div>\n",
                            "<style scoped>\n",
                            "    .dataframe tbody tr th:only-of-type {\n",
                            "        vertical-align: middle;\n",
                            "    }\n",
                            "\n",
                            "    .dataframe tbody tr th {\n",
                            "        vertical-align: top;\n",
                            "    }\n",
                            "\n",
                            "    .dataframe thead th {\n",
                            "        text-align: right;\n",
                            "    }\n",
                            "</style>\n",
                            "<table border=\"1\" class=\"dataframe\">\n",
                            "  <thead>\n",
                            "    <tr style=\"text-align: right;\">\n",
                            "      <th></th>\n",
                            "      <th>o</th>\n",
                            "      <th>d</th>\n",
                            "      <th>dist</th>\n",
                            "      <th>dur</th>\n",
                            "      <th>geom</th>\n",
                            "    </tr>\n",
                            "  </thead>\n",
                            "  <tbody>\n",
                            "    <tr>\n",
                            "      <th>0</th>\n",
                            "      <td>TS1</td>\n",
                            "      <td>TS_P</td>\n",
                            "      <td>10.56</td>\n",
                            "      <td>747.0</td>\n",
                            "      <td>[[13.767103, 45.650613], [13.76746, 45.650831]...</td>\n",
                            "    </tr>\n",
                            "    <tr>\n",
                            "      <th>1</th>\n",
                            "      <td>TS1</td>\n",
                            "      <td>TS_B</td>\n",
                            "      <td>10.14</td>\n",
                            "      <td>814.9</td>\n",
                            "      <td>[[13.767103, 45.650613], [13.76746, 45.650831]...</td>\n",
                            "    </tr>\n",
                            "    <tr>\n",
                            "      <th>2</th>\n",
                            "      <td>TS1</td>\n",
                            "      <td>UD_FI</td>\n",
                            "      <td>71.04</td>\n",
                            "      <td>3225.1</td>\n",
                            "      <td>[[13.767103, 45.650613], [13.76746, 45.650831]...</td>\n",
                            "    </tr>\n",
                            "    <tr>\n",
                            "      <th>3</th>\n",
                            "      <td>TS1</td>\n",
                            "      <td>UD_C</td>\n",
                            "      <td>73.27</td>\n",
                            "      <td>3299.5</td>\n",
                            "      <td>[[13.767103, 45.650613], [13.76746, 45.650831]...</td>\n",
                            "    </tr>\n",
                            "    <tr>\n",
                            "      <th>4</th>\n",
                            "      <td>TS1</td>\n",
                            "      <td>UD_S</td>\n",
                            "      <td>76.67</td>\n",
                            "      <td>3435.6</td>\n",
                            "      <td>[[13.767103, 45.650613], [13.76746, 45.650831]...</td>\n",
                            "    </tr>\n",
                            "  </tbody>\n",
                            "</table>\n",
                            "</div>"
                        ],
                        "text/plain": [
                            "     o      d   dist     dur  \\\n",
                            "0  TS1   TS_P  10.56   747.0   \n",
                            "1  TS1   TS_B  10.14   814.9   \n",
                            "2  TS1  UD_FI  71.04  3225.1   \n",
                            "3  TS1   UD_C  73.27  3299.5   \n",
                            "4  TS1   UD_S  76.67  3435.6   \n",
                            "\n",
                            "                                                geom  \n",
                            "0  [[13.767103, 45.650613], [13.76746, 45.650831]...  \n",
                            "1  [[13.767103, 45.650613], [13.76746, 45.650831]...  \n",
                            "2  [[13.767103, 45.650613], [13.76746, 45.650831]...  \n",
                            "3  [[13.767103, 45.650613], [13.76746, 45.650831]...  \n",
                            "4  [[13.767103, 45.650613], [13.76746, 45.650831]...  "
                        ]
                    },
                    "metadata": {},
                    "execution_count": 2
                }
            ],
            "metadata": {}
        },
        {
            "cell_type": "code",
            "execution_count": 3,
            "source": [
                "# # access to waypoints of each route\r\n",
                "# nroutes:int = all_routes.shape[0]\r\n",
                "# nroutes:int = 3 # limit the number of routes for debug\r\n",
                "# for r in range (nroutes):\r\n",
                "#     nwp = len(all_routes.geom[r])\r\n",
                "#     nwp = 5 # limit the number of point for debug\r\n",
                "#     for wp in range (nwp):\r\n",
                "#         coords = all_routes.geom[r][wp]\r\n",
                "#         print(r,wp, coords)\r\n"
            ],
            "outputs": [],
            "metadata": {}
        },
        {
            "cell_type": "markdown",
            "source": [
                "Plot origins and destinations"
            ],
            "metadata": {}
        },
        {
            "cell_type": "code",
            "execution_count": 4,
            "source": [
                "nroutes:int = all_routes.shape[0]   # number of routes\r\n",
                "origx:list = []\r\n",
                "origy:list = []\r\n",
                "destx:list = []\r\n",
                "desty:list = []\r\n",
                "\r\n",
                "for r in range (nroutes):            \r\n",
                "    x = all_routes.geom[r][0][0]\r\n",
                "    y = all_routes.geom[r][0][1]\r\n",
                "    if x not in origx:\r\n",
                "        origx.append(x)\r\n",
                "    if y not in origy:\r\n",
                "        origy.append(y)\r\n",
                "    \r\n",
                "    nwp = len(all_routes.geom[r])   # number of waypoints in each route\r\n",
                "    x = all_routes.geom[r][nwp-1][0]\r\n",
                "    y = all_routes.geom[r][nwp-1][1]\r\n",
                "    if x not in destx:\r\n",
                "        destx.append(x)\r\n",
                "    if y not in desty:\r\n",
                "        desty.append(y)\r\n",
                "\r\n",
                "plt.plot(origx,origy, marker='s', markersize = 1, color='green', linewidth = 0)\r\n",
                "plt.plot(destx,desty, marker='o', markersize = 3, color='red', linewidth = 0)\r\n",
                "plt.legend\r\n",
                "plt.show\r\n"
            ],
            "outputs": [
                {
                    "output_type": "execute_result",
                    "data": {
                        "text/plain": [
                            "<function matplotlib.pyplot.show(close=None, block=None)>"
                        ]
                    },
                    "metadata": {},
                    "execution_count": 4
                },
                {
                    "output_type": "display_data",
                    "data": {
                        "image/png": "[encoded data removed]",
                        "text/plain": [
                            "<Figure size 432x288 with 1 Axes>"
                        ]
                    },
                    "metadata": {
                        "needs_background": "light"
                    }
                }
            ],
            "metadata": {}
        },
        {
            "cell_type": "code",
            "execution_count": 5,
            "source": [
                "\r\n",
                "nroutes:int = all_routes.shape[0]\r\n",
                "cycol = cycle('bgrcmk') \r\n",
                "for r in range (nroutes):\r\n",
                "    coords = all_routes.geom[r]\r\n",
                "    x,y = map(list,zip(*coords))\r\n",
                "    plt.plot(x,y,  markersize = 0, c=next(cycol), linestyle = 'solid', linewidth=.1)\r\n",
                "    plt.show"
            ],
            "outputs": [
                {
                    "output_type": "display_data",
                    "data": {
                        "image/png": "[encoded data removed]",
                        "text/plain": [
                            "<Figure size 432x288 with 1 Axes>"
                        ]
                    },
                    "metadata": {
                        "needs_background": "light"
                    }
                }
            ],
            "metadata": {}
        },
        {
            "cell_type": "code",
            "execution_count": 6,
            "source": [
                "# TODO \r\n",
                "nroutes:int = all_routes.shape[0]\r\n",
                "cycol = cycle('bgrcmk') \r\n",
                "for r in range (nroutes):\r\n",
                "    coords = all_routes.geom[r]\r\n",
                "    x,y = map(list,zip(*coords))\r\n",
                "    plt.plot(x,y,  markersize = 0, c=next(cycol), linestyle = 'solid', linewidth=.1)\r\n",
                "    plt.show\r\n",
                "\r\n",
                "plt.plot(origx,origy, marker='s', markersize = .2, color='green', linewidth = 0)\r\n",
                "plt.plot(destx,desty, marker='o', markersize = .5, color='red', linewidth = 0)\r\n",
                "\r\n",
                "    \r\n",
                "plt.legend\r\n",
                "plt.show\r\n"
            ],
            "outputs": [
                {
                    "output_type": "execute_result",
                    "data": {
                        "text/plain": [
                            "<function matplotlib.pyplot.show(close=None, block=None)>"
                        ]
                    },
                    "metadata": {},
                    "execution_count": 6
                },
                {
                    "output_type": "display_data",
                    "data": {
                        "image/png": "[encoded data removed]",
                        "text/plain": [
                            "<Figure size 432x288 with 1 Axes>"
                        ]
                    },
                    "metadata": {
                        "needs_background": "light"
                    }
                }
            ],
            "metadata": {}
        },
        {
            "cell_type": "markdown",
            "source": [
                "export to geo json\r\n",
                "\r\n",
                "https://github.com/gboeing/ppd599/blob/3faf7e028d48cb03ddb999c5a910213c5384e7dc/17-Leaflet-Web-Mapping/leaflet-simple-demo/pandas-to-geojson.ipynb"
            ],
            "metadata": {}
        },
        {
            "cell_type": "code",
            "execution_count": 12,
            "source": [
                "import json\r\n",
                "all_routes.to_json('data.json', orient = \"index\")"
            ],
            "outputs": [],
            "metadata": {}
        },
        {
            "cell_type": "code",
            "execution_count": null,
            "source": [],
            "outputs": [],
            "metadata": {}
        }
    ],
    "metadata": {
        "orig_nbformat": 4,
        "language_info": {
            "name": "python",
            "version": "3.9.4",
            "mimetype": "text/x-python",
            "codemirror_mode": {
                "name": "ipython",
                "version": 3
            },
            "pygments_lexer": "ipython3",
            "nbconvert_exporter": "python",
            "file_extension": ".py"
        },
        "kernelspec": {
            "name": "python3",
            "display_name": "Python 3.9.4 64-bit"
        },
        "interpreter": {
            "hash": "46c56b00a886f01d69e776668ca12acc0de9f7c8f388e5060811cd7865d8f9b3"
        }
    },
    "nbformat": 4,
    "nbformat_minor": 2
}